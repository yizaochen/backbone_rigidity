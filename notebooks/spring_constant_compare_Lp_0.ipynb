{
 "cells": [
  {
   "cell_type": "code",
   "execution_count": 1,
   "id": "5a901ca0-8c5c-42da-a07e-890c5f76241f",
   "metadata": {},
   "outputs": [],
   "source": [
    "from os import path\n",
    "import matplotlib.pyplot as plt\n",
    "import numpy as np\n",
    "from backbone.mix_k_dihedral import MixPlot2\n",
    "big_traj_folder = '/home/ytcdata/bigtraj_fluctmatch/500ns'\n",
    "dihedral_folder = '/home/yizaochen/Documents/dna_2021_drawzone/backbone_dihedral'\n",
    "backbone_data_folder = '/home/yizaochen/codes/dna_rna/backbone_data'\n",
    "drawzone_folder = '/home/yizaochen/Desktop/drawzone_temp'"
   ]
  },
  {
   "cell_type": "markdown",
   "id": "d592e0d3-3c8c-4fc3-a2d4-e60f72b4cd52",
   "metadata": {},
   "source": [
    "### Part 1: Initialize"
   ]
  },
  {
   "cell_type": "code",
   "execution_count": 2,
   "id": "15a26cf6-0133-4cdf-9f96-5920a6c56c2d",
   "metadata": {
    "tags": []
   },
   "outputs": [
    {
     "name": "stdout",
     "output_type": "stream",
     "text": [
      "/home/yizaochen/codes/dna_rna/backbone_data/a_tract_21mer exists\n",
      "/home/yizaochen/codes/dna_rna/backbone_data/a_tract_21mer/STRAND1 exists\n",
      "/home/yizaochen/codes/dna_rna/backbone_data/a_tract_21mer/STRAND1/ndx exists\n",
      "/home/yizaochen/codes/dna_rna/backbone_data/a_tract_21mer/STRAND1/plumed_input exists\n",
      "/home/yizaochen/codes/dna_rna/backbone_data/a_tract_21mer/STRAND1/plumed_out exists\n",
      "/home/yizaochen/codes/backbone_rigidity/plumed_test/a_tract_21mer exists\n"
     ]
    }
   ],
   "source": [
    "host = 'a_tract_21mer'\n",
    "strand_id = 'STRAND1'\n",
    "make_df = False\n",
    "make_dihedral = False\n",
    "make_epsilon_minus_zeta_df = False\n",
    "plot_agent = MixPlot2(host, strand_id, big_traj_folder, dihedral_folder, backbone_data_folder, make_df)"
   ]
  },
  {
   "cell_type": "markdown",
   "id": "40290e02-597e-436d-91b5-325fe1e1a34a",
   "metadata": {},
   "source": [
    "### Part 2: Make/Read DataFrame"
   ]
  },
  {
   "cell_type": "code",
   "execution_count": 3,
   "id": "c92870d4-2782-4d12-a047-907cf0274572",
   "metadata": {},
   "outputs": [],
   "source": [
    "if make_df:\n",
    "    plot_agent.make_k_df()\n",
    "else:\n",
    "    plot_agent.read_k_df()\n",
    "    \n",
    "if make_dihedral:\n",
    "    plot_agent.make_all_dihedral_df()\n",
    "else:\n",
    "    plot_agent.read_all_diehdral_df()\n",
    "    \n",
    "if make_epsilon_minus_zeta_df:\n",
    "    plot_agent.make_epsilon_minus_zeta_df()\n",
    "else:\n",
    "    plot_agent.read_epsilon_minus_zeta_df()"
   ]
  },
  {
   "cell_type": "markdown",
   "id": "c6f0737e-55d6-43e0-ae5e-d8cfbf7300da",
   "metadata": {},
   "source": [
    "### Part 3: Get a selected Resid and selected type k"
   ]
  },
  {
   "cell_type": "code",
   "execution_count": 4,
   "id": "cbf668c8-63b5-4b3d-bff0-df9875ff4c22",
   "metadata": {},
   "outputs": [
    {
     "data": {
      "text/html": [
       "<div>\n",
       "<style scoped>\n",
       "    .dataframe tbody tr th:only-of-type {\n",
       "        vertical-align: middle;\n",
       "    }\n",
       "\n",
       "    .dataframe tbody tr th {\n",
       "        vertical-align: top;\n",
       "    }\n",
       "\n",
       "    .dataframe thead th {\n",
       "        text-align: right;\n",
       "    }\n",
       "</style>\n",
       "<table border=\"1\" class=\"dataframe\">\n",
       "  <thead>\n",
       "    <tr style=\"text-align: right;\">\n",
       "      <th></th>\n",
       "      <th>C2'(i)-P(i+1)</th>\n",
       "      <th>C2'(i)-O1P(i+1)</th>\n",
       "      <th>C4'(i)-O5'(i+1)</th>\n",
       "    </tr>\n",
       "  </thead>\n",
       "  <tbody>\n",
       "    <tr>\n",
       "      <th>0</th>\n",
       "      <td>2.485653</td>\n",
       "      <td>3.161242</td>\n",
       "      <td>4.248058</td>\n",
       "    </tr>\n",
       "    <tr>\n",
       "      <th>1</th>\n",
       "      <td>3.277126</td>\n",
       "      <td>1.463537</td>\n",
       "      <td>5.011947</td>\n",
       "    </tr>\n",
       "    <tr>\n",
       "      <th>2</th>\n",
       "      <td>3.083668</td>\n",
       "      <td>2.626089</td>\n",
       "      <td>5.428947</td>\n",
       "    </tr>\n",
       "    <tr>\n",
       "      <th>3</th>\n",
       "      <td>2.965742</td>\n",
       "      <td>2.580100</td>\n",
       "      <td>5.553047</td>\n",
       "    </tr>\n",
       "    <tr>\n",
       "      <th>4</th>\n",
       "      <td>2.535542</td>\n",
       "      <td>3.560937</td>\n",
       "      <td>5.846668</td>\n",
       "    </tr>\n",
       "    <tr>\n",
       "      <th>5</th>\n",
       "      <td>3.050537</td>\n",
       "      <td>2.966100</td>\n",
       "      <td>5.906837</td>\n",
       "    </tr>\n",
       "    <tr>\n",
       "      <th>6</th>\n",
       "      <td>3.045589</td>\n",
       "      <td>3.123874</td>\n",
       "      <td>5.664826</td>\n",
       "    </tr>\n",
       "    <tr>\n",
       "      <th>7</th>\n",
       "      <td>2.902274</td>\n",
       "      <td>3.261553</td>\n",
       "      <td>6.319000</td>\n",
       "    </tr>\n",
       "    <tr>\n",
       "      <th>8</th>\n",
       "      <td>2.490042</td>\n",
       "      <td>3.923253</td>\n",
       "      <td>6.322826</td>\n",
       "    </tr>\n",
       "    <tr>\n",
       "      <th>9</th>\n",
       "      <td>2.453216</td>\n",
       "      <td>3.687305</td>\n",
       "      <td>6.216300</td>\n",
       "    </tr>\n",
       "    <tr>\n",
       "      <th>10</th>\n",
       "      <td>2.576474</td>\n",
       "      <td>3.548963</td>\n",
       "      <td>6.040995</td>\n",
       "    </tr>\n",
       "    <tr>\n",
       "      <th>11</th>\n",
       "      <td>3.210221</td>\n",
       "      <td>2.131611</td>\n",
       "      <td>4.963453</td>\n",
       "    </tr>\n",
       "    <tr>\n",
       "      <th>12</th>\n",
       "      <td>3.164242</td>\n",
       "      <td>2.005958</td>\n",
       "      <td>4.328495</td>\n",
       "    </tr>\n",
       "    <tr>\n",
       "      <th>13</th>\n",
       "      <td>3.162537</td>\n",
       "      <td>1.337805</td>\n",
       "      <td>3.961774</td>\n",
       "    </tr>\n",
       "  </tbody>\n",
       "</table>\n",
       "</div>"
      ],
      "text/plain": [
       "    C2'(i)-P(i+1)  C2'(i)-O1P(i+1)  C4'(i)-O5'(i+1)\n",
       "0        2.485653         3.161242         4.248058\n",
       "1        3.277126         1.463537         5.011947\n",
       "2        3.083668         2.626089         5.428947\n",
       "3        2.965742         2.580100         5.553047\n",
       "4        2.535542         3.560937         5.846668\n",
       "5        3.050537         2.966100         5.906837\n",
       "6        3.045589         3.123874         5.664826\n",
       "7        2.902274         3.261553         6.319000\n",
       "8        2.490042         3.923253         6.322826\n",
       "9        2.453216         3.687305         6.216300\n",
       "10       2.576474         3.548963         6.040995\n",
       "11       3.210221         2.131611         4.963453\n",
       "12       3.164242         2.005958         4.328495\n",
       "13       3.162537         1.337805         3.961774"
      ]
     },
     "execution_count": 4,
     "metadata": {},
     "output_type": "execute_result"
    }
   ],
   "source": [
    "plot_agent.df_k"
   ]
  },
  {
   "cell_type": "code",
   "execution_count": 6,
   "id": "b586aff7-93c4-455f-9353-d8ed4f19dc66",
   "metadata": {},
   "outputs": [
    {
     "data": {
      "text/plain": [
       "9.894952631579715"
      ]
     },
     "execution_count": 6,
     "metadata": {},
     "output_type": "execute_result"
    }
   ],
   "source": [
    "plot_agent.df_k.iloc[0].sum()"
   ]
  },
  {
   "cell_type": "code",
   "execution_count": 8,
   "id": "36075a84-edd9-4fe9-a66d-c738c0156f52",
   "metadata": {},
   "outputs": [],
   "source": [
    "n_bp = 14\n",
    "d_k_ef_container = {'STRAND1': np.zeros(n_bp), 'STRAND2': np.zeros(n_bp)}\n",
    "for idx in range(n_bp):\n",
    "    d_k_ef_container[strand_id][idx] = plot_agent.df_k.iloc[idx].sum()"
   ]
  },
  {
   "cell_type": "code",
   "execution_count": 9,
   "id": "f81ae17b-2f77-4aac-b08b-a45e6c9bea39",
   "metadata": {},
   "outputs": [
    {
     "data": {
      "text/plain": [
       "array([ 9.89495263,  9.75261053, 11.13870526, 11.09888947, 11.94314737,\n",
       "       11.92347368, 11.83428947, 12.48282632, 12.73612105, 12.35682105,\n",
       "       12.16643158, 10.30528421,  9.49869474,  8.46211579])"
      ]
     },
     "execution_count": 9,
     "metadata": {},
     "output_type": "execute_result"
    }
   ],
   "source": [
    "d_k_ef_container[strand_id]"
   ]
  },
  {
   "cell_type": "code",
   "execution_count": null,
   "id": "05e7d32f-0002-4014-b61e-6e139933ad69",
   "metadata": {},
   "outputs": [],
   "source": []
  },
  {
   "cell_type": "markdown",
   "id": "6574860a-82c3-41f5-86af-e1cc98d00a57",
   "metadata": {},
   "source": [
    "### Batch Drawing"
   ]
  },
  {
   "cell_type": "code",
   "execution_count": null,
   "id": "19ce0d6b-16c4-42e8-a15c-1c1472afb2ea",
   "metadata": {},
   "outputs": [],
   "source": [
    "hosts = ['a_tract_21mer', 'g_tract_21mer', 'atat_21mer', 'gcgc_21mer']\n",
    "strands = ['STRAND1', 'STRAND2']\n",
    "make_df = False\n",
    "make_dihedral = False\n",
    "make_epsilon_minus_zeta_df = False\n",
    "\n",
    "for host in hosts:\n",
    "    for strand_id in strands:\n",
    "        plot_agent = MixPlot2(host, strand_id, big_traj_folder, dihedral_folder, backbone_data_folder, make_df)\n",
    "        \n",
    "        if make_df:\n",
    "            plot_agent.make_k_df()\n",
    "        else:\n",
    "            plot_agent.read_k_df()\n",
    "\n",
    "        if make_dihedral:\n",
    "            plot_agent.make_all_dihedral_df()\n",
    "        else:\n",
    "            plot_agent.read_all_diehdral_df()\n",
    "\n",
    "        if make_epsilon_minus_zeta_df:\n",
    "            plot_agent.make_epsilon_minus_zeta_df()\n",
    "        else:\n",
    "            plot_agent.read_epsilon_minus_zeta_df()\n",
    "            \n",
    "        figsize = (6, 12)\n",
    "        hspace = 0\n",
    "        bottom = 0 \n",
    "        top = 6.0\n",
    "        fig, d_axes = plot_agent.plot_main(figsize, hspace, bottom, top)\n",
    "        png_out = path.join(drawzone_folder, f'{host}_{strand_id}.png')\n",
    "        plt.tight_layout()\n",
    "        plt.savefig(png_out, dpi=100)\n",
    "        plt.show()"
   ]
  },
  {
   "cell_type": "markdown",
   "id": "ab79500b-d128-43fa-9cc5-fdcdfa079858",
   "metadata": {},
   "source": [
    "### Addtional Part: Data Matrix Max, Min"
   ]
  },
  {
   "cell_type": "code",
   "execution_count": 7,
   "id": "1463c705-bc0d-47f5-9b6b-174c0699cb3a",
   "metadata": {},
   "outputs": [
    {
     "name": "stdout",
     "output_type": "stream",
     "text": [
      "C2'-C3'-O3'-P\n",
      "Min: 0.0 Max: 0.029\n",
      "epsilon - zeta:\n",
      "Min: 0.0 Max: 0.022\n"
     ]
    }
   ],
   "source": [
    "plot_agent.get_data_mat_min_max()"
   ]
  },
  {
   "cell_type": "markdown",
   "id": "585d70e0-a34d-4302-8ec9-18392165f8dd",
   "metadata": {},
   "source": [
    "### Additional Part: Test Maximum"
   ]
  },
  {
   "cell_type": "code",
   "execution_count": 21,
   "id": "08d23683-b2a3-465f-987c-0d6cc6c933b1",
   "metadata": {},
   "outputs": [
    {
     "name": "stdout",
     "output_type": "stream",
     "text": [
      "Min: 2.665\n",
      "Max: 6.763\n"
     ]
    }
   ],
   "source": [
    "idx = 2\n",
    "ylim = d_axes[idx].get_ylim()\n",
    "print(f'Min: {ylim[0]:.3f}')\n",
    "print(f'Max: {ylim[1]:.3f}')"
   ]
  },
  {
   "cell_type": "markdown",
   "id": "d1d18b72-6efa-45e1-85e4-ed6a57598d5b",
   "metadata": {},
   "source": [
    "### Additional Part : Color Bar"
   ]
  },
  {
   "cell_type": "code",
   "execution_count": 9,
   "id": "d6c5368b-bfdb-4b33-9e99-45e21818d83a",
   "metadata": {},
   "outputs": [
    {
     "data": {
      "image/png": "[encoded data removed]",
      "text/plain": [
       "<Figure size 576x288 with 1 Axes>"
      ]
     },
     "metadata": {
      "needs_background": "light"
     },
     "output_type": "display_data"
    }
   ],
   "source": [
    "figsize = (8,4)\n",
    "dihedral_name = \"C2prime-P\" #\"C2prime-P\", \"C4prime-P\", \"C3prime-O5prime\", \"epsilon-zeta\"\n",
    "fig, ax1, cb1  = plot_agent.draw_color_bar(figsize, dihedral_name)\n",
    "plt.show()"
   ]
  },
  {
   "cell_type": "code",
   "execution_count": null,
   "id": "acf53019-ad87-48c6-b407-e4801875ed33",
   "metadata": {},
   "outputs": [],
   "source": []
  }
 ],
 "metadata": {
  "kernelspec": {
   "display_name": "Python 3 (ipykernel)",
   "language": "python",
   "name": "python3"
  },
  "language_info": {
   "codemirror_mode": {
    "name": "ipython",
    "version": 3
   },
   "file_extension": ".py",
   "mimetype": "text/x-python",
   "name": "python",
   "nbconvert_exporter": "python",
   "pygments_lexer": "ipython3",
   "version": "3.8.11"
  }
 },
 "nbformat": 4,
 "nbformat_minor": 5
}
