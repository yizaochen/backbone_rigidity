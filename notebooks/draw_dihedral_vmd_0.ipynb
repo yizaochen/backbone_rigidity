{
 "cells": [
  {
   "cell_type": "code",
   "execution_count": 29,
   "id": "da7d3006-e8a8-4fac-a5e6-e4ef18448eb1",
   "metadata": {},
   "outputs": [],
   "source": [
    "from backbone.dihedral_vmd import DihedralDrawer\n",
    "all_folder = '/home/yizaochen/codes/dna_rna/all_systems'\n",
    "tcl_folder = '/home/yizaochen/Desktop/drawzone_temp/tcl_folder'"
   ]
  },
  {
   "cell_type": "markdown",
   "id": "4172586a-c886-48b1-9dd9-1403a225bf67",
   "metadata": {},
   "source": [
    "### Part 1: Initialize"
   ]
  },
  {
   "cell_type": "code",
   "execution_count": 30,
   "id": "5bbd9253-6e7b-41f0-b852-d6c97476a28c",
   "metadata": {},
   "outputs": [],
   "source": [
    "host = 'a_tract_21mer'\n",
    "strand_id = 'STRAND1'\n",
    "drawer = DihedralDrawer(host, strand_id, all_folder, tcl_folder)"
   ]
  },
  {
   "cell_type": "markdown",
   "id": "b1722e68-6060-493a-8b00-3b05444d574e",
   "metadata": {},
   "source": [
    "### Part 2: Use VMD to show PDB"
   ]
  },
  {
   "cell_type": "code",
   "execution_count": 31,
   "id": "51fbcbe2-a1e2-42a9-8d8d-43fe5655b548",
   "metadata": {},
   "outputs": [
    {
     "name": "stdout",
     "output_type": "stream",
     "text": [
      "vmd -pdb /home/yizaochen/codes/dna_rna/all_systems/a_tract_21mer/bdna+bdna/input/allatoms/bdna+bdna.perfect.pdb\n",
      "display resize 700 850\n"
     ]
    }
   ],
   "source": [
    "drawer.show_vmd()\n",
    "print('display resize 700 850')"
   ]
  },
  {
   "cell_type": "code",
   "execution_count": 32,
   "id": "89961407-e420-42f7-b23f-81996a3a8df5",
   "metadata": {},
   "outputs": [
    {
     "name": "stdout",
     "output_type": "stream",
     "text": [
      "source /home/yizaochen/Desktop/drawzone_temp/tcl_folder/show_system.tcl\n"
     ]
    }
   ],
   "source": [
    "dihedral_name = 'C2prime-C4orC2'\n",
    "drawer.show_system(dihedral_name)"
   ]
  },
  {
   "cell_type": "markdown",
   "id": "486bdf11-d0a5-46d3-9445-7d098e7a4b79",
   "metadata": {},
   "source": [
    "### Part 3: Draw Triangle"
   ]
  },
  {
   "cell_type": "code",
   "execution_count": 26,
   "id": "50de2fb9-0401-4412-babf-5e798fc28319",
   "metadata": {},
   "outputs": [
    {
     "name": "stdout",
     "output_type": "stream",
     "text": [
      "source /home/yizaochen/Desktop/drawzone_temp/tcl_folder/draw_triangle.tcl\n"
     ]
    }
   ],
   "source": [
    "material = 'BrushedMetal'\n",
    "drawer.draw_two_triangles(dihedral_name, material)"
   ]
  },
  {
   "cell_type": "markdown",
   "id": "14e0137e-e1c0-49c1-889f-dedf01710da5",
   "metadata": {},
   "source": [
    "### Part 4: Take Photo"
   ]
  },
  {
   "cell_type": "code",
   "execution_count": 27,
   "id": "106eb786-ab8f-4837-859f-2f02722aaec1",
   "metadata": {},
   "outputs": [
    {
     "name": "stdout",
     "output_type": "stream",
     "text": [
      "render Tachyon /home/yizaochen/Desktop/drawzone_temp/C2prime-C4orC2 \"/usr/local/lib/vmd/tachyon_LINUXAMD64\" -aasamples 12 %s -format TARGA -o %s.tga\n"
     ]
    }
   ],
   "source": [
    "drawzone_folder = '/home/yizaochen/Desktop/drawzone_temp'\n",
    "tga_name = f'{dihedral_name}'\n",
    "drawer.tachyon_take_photo_cmd(drawzone_folder, tga_name)"
   ]
  },
  {
   "cell_type": "code",
   "execution_count": 28,
   "id": "9b39e8e3-15a1-4ee6-a987-a9fb7a69930b",
   "metadata": {},
   "outputs": [
    {
     "name": "stdout",
     "output_type": "stream",
     "text": [
      "draw delete all\n"
     ]
    }
   ],
   "source": [
    "print('draw delete all')"
   ]
  },
  {
   "cell_type": "code",
   "execution_count": null,
   "id": "34f6dcf8-9446-4a65-bf53-d7c7627af300",
   "metadata": {},
   "outputs": [],
   "source": []
  }
 ],
 "metadata": {
  "kernelspec": {
   "display_name": "Python 3 (ipykernel)",
   "language": "python",
   "name": "python3"
  },
  "language_info": {
   "codemirror_mode": {
    "name": "ipython",
    "version": 3
   },
   "file_extension": ".py",
   "mimetype": "text/x-python",
   "name": "python",
   "nbconvert_exporter": "python",
   "pygments_lexer": "ipython3",
   "version": "3.8.11"
  }
 },
 "nbformat": 4,
 "nbformat_minor": 5
}
