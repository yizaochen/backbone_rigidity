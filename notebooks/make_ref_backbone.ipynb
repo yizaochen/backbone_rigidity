{
 "cells": [
  {
   "cell_type": "code",
   "execution_count": 7,
   "id": "74a63ef8-10a9-41c8-aeae-4e4d3ffac55b",
   "metadata": {},
   "outputs": [],
   "source": [
    "from os import path\n",
    "from shutil import copyfile\n",
    "from backbone.strand import Strand\n",
    "ref_folder = '/home/yizaochen/codes/backbone_rigidity/ref_structures'"
   ]
  },
  {
   "cell_type": "markdown",
   "id": "079d1f7e-4cd9-4a94-aa76-43e4dd45f809",
   "metadata": {},
   "source": [
    "### Part 1: Copy Perfect Gro"
   ]
  },
  {
   "cell_type": "code",
   "execution_count": 8,
   "id": "f5895d3a-8146-48b2-9436-404a52a67197",
   "metadata": {},
   "outputs": [],
   "source": [
    "old_gro = '/home/yizaochen/codes/dna_rna/all_systems/a_tract_21mer/bdna+bdna/input/allatoms/bdna+bdna.perfect.gro'\n",
    "new_gro = path.join(ref_folder, 'bdna+bdna.perfect.gro')\n",
    "\n",
    "copy_or_not = False\n",
    "if copy_or_not:\n",
    "    copyfile(old_gro, new_gro)\n",
    "    print(f'cp {old_gro} {new_gro}')"
   ]
  },
  {
   "cell_type": "markdown",
   "id": "d782ce41-2bc4-4520-bbaf-156234fa24b2",
   "metadata": {},
   "source": [
    "### Part 2: Make NDX file"
   ]
  },
  {
   "cell_type": "code",
   "execution_count": 9,
   "id": "bc61c771-3c8e-445f-adca-877ee976e04a",
   "metadata": {},
   "outputs": [
    {
     "name": "stdout",
     "output_type": "stream",
     "text": [
      "gmx make_ndx -f /home/yizaochen/codes/backbone_rigidity/ref_structures/bdna+bdna.perfect.gro -o /home/yizaochen/codes/backbone_rigidity/ref_structures/backbone.ndx\n"
     ]
    }
   ],
   "source": [
    "f_ndx = path.join(ref_folder, 'backbone.ndx')\n",
    "cmd = f'gmx make_ndx -f {new_gro} -o {f_ndx}'\n",
    "print(cmd)"
   ]
  },
  {
   "cell_type": "code",
   "execution_count": 12,
   "id": "2b1a01bc-cfa0-4f51-b7d0-8245c26a51d5",
   "metadata": {},
   "outputs": [
    {
     "name": "stdout",
     "output_type": "stream",
     "text": [
      "r 4 5 6 7 8 9 10 11 12 13 14 15 16 17 18 & a P O1P O2P O5' C5' C4' O4' C1' C2' C3' O3'\n",
      "q\n"
     ]
    }
   ],
   "source": [
    "host = 'a_tract_21mer'\n",
    "strand_id = 'STRAND1'\n",
    "strand_agent = Strand(host, strand_id)\n",
    "print(strand_agent.get_gmx_makendx_text())\n",
    "print('q')"
   ]
  },
  {
   "cell_type": "markdown",
   "id": "886843a4-e667-4301-8576-16802ff46c4b",
   "metadata": {},
   "source": [
    "### Part 3: Make Backbone PDB"
   ]
  },
  {
   "cell_type": "code",
   "execution_count": 14,
   "id": "8490c6d1-4bfb-418c-9fcb-9e23c40231b5",
   "metadata": {},
   "outputs": [
    {
     "name": "stdout",
     "output_type": "stream",
     "text": [
      "gmx editconf -f /home/yizaochen/codes/backbone_rigidity/ref_structures/bdna+bdna.perfect.gro -o /home/yizaochen/codes/backbone_rigidity/ref_structures/backbone.pdb -n /home/yizaochen/codes/backbone_rigidity/ref_structures/backbone.ndx\n"
     ]
    }
   ],
   "source": [
    "backbone_pdb = path.join(ref_folder, 'backbone.pdb')\n",
    "cmd = f'gmx editconf -f {new_gro} -o {backbone_pdb} -n {f_ndx}'\n",
    "print(cmd)"
   ]
  },
  {
   "cell_type": "code",
   "execution_count": 16,
   "id": "b738580e-25f6-4716-bc60-60e6e1f16b86",
   "metadata": {},
   "outputs": [
    {
     "name": "stdout",
     "output_type": "stream",
     "text": [
      "vmd -pdb /home/yizaochen/codes/backbone_rigidity/ref_structures/backbone.pdb\n"
     ]
    }
   ],
   "source": [
    "print(f'vmd -pdb {backbone_pdb}')"
   ]
  }
 ],
 "metadata": {
  "kernelspec": {
   "display_name": "Python 3 (ipykernel)",
   "language": "python",
   "name": "python3"
  },
  "language_info": {
   "codemirror_mode": {
    "name": "ipython",
    "version": 3
   },
   "file_extension": ".py",
   "mimetype": "text/x-python",
   "name": "python",
   "nbconvert_exporter": "python",
   "pygments_lexer": "ipython3",
   "version": "3.8.11"
  }
 },
 "nbformat": 4,
 "nbformat_minor": 5
}
