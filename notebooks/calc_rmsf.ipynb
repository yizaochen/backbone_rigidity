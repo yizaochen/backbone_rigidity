{
 "cells": [
  {
   "cell_type": "code",
   "execution_count": 1,
   "id": "7a1c6c07-f0eb-490a-b1bd-d4e48091d475",
   "metadata": {},
   "outputs": [],
   "source": [
    "from os import path\n",
    "from backbone.rms import RMSFProcess\n",
    "big_traj_folder = '/home/yizaochen/codes/dna_rna/all_systems'\n",
    "backbone_data_folder = '/home/yizaochen/codes/dna_rna/backbone_data'"
   ]
  },
  {
   "cell_type": "markdown",
   "id": "5dbf551a-67f9-4760-b68a-7ac44caf4ae4",
   "metadata": {},
   "source": [
    "### Part 1: Initialize"
   ]
  },
  {
   "cell_type": "code",
   "execution_count": 23,
   "id": "e179a8a5-cd7d-432e-87f7-708e8907862d",
   "metadata": {},
   "outputs": [
    {
     "name": "stdout",
     "output_type": "stream",
     "text": [
      "/home/yizaochen/codes/dna_rna/backbone_data/g_tract_21mer exists\n",
      "/home/yizaochen/codes/dna_rna/backbone_data/g_tract_21mer/STRAND2 exists\n",
      "/home/yizaochen/codes/dna_rna/backbone_data/g_tract_21mer/STRAND2/ndx exists\n"
     ]
    }
   ],
   "source": [
    "host = 'g_tract_21mer'\n",
    "strand_id = 'STRAND2'\n",
    "r_agent = RMSFProcess(host, strand_id, big_traj_folder, backbone_data_folder)"
   ]
  },
  {
   "cell_type": "markdown",
   "id": "f543e55c-0d9d-41e7-b60f-38e00d03a431",
   "metadata": {},
   "source": [
    "### Part 2: Calculate RMSF per residue"
   ]
  },
  {
   "cell_type": "code",
   "execution_count": 24,
   "id": "43e0b791-53ab-4360-8d06-f36b63fd0ba7",
   "metadata": {
    "collapsed": true,
    "jupyter": {
     "outputs_hidden": true
    },
    "tags": []
   },
   "outputs": [
    {
     "name": "stdout",
     "output_type": "stream",
     "text": [
      "echo 0 |/usr/bin/gmx rmsf -s /home/yizaochen/codes/dna_rna/backbone_data/gcgc_21mer/STRAND1/STRAND1.fit.pdb -f /home/yizaochen/codes/dna_rna/backbone_data/gcgc_21mer/STRAND1/STRAND1.fit.xtc -o /home/yizaochen/codes/dna_rna/backbone_data/gcgc_21mer/STRAND1/STRAND1.res.xvg -res\n"
     ]
    },
    {
     "name": "stderr",
     "output_type": "stream",
     "text": [
      "               :-) GROMACS - gmx rmsf, 2020.1-Ubuntu-2020.1-1 (-:\n",
      "\n",
      "                            GROMACS is written by:\n",
      "     Emile Apol      Rossen Apostolov      Paul Bauer     Herman J.C. Berendsen\n",
      "    Par Bjelkmar      Christian Blau   Viacheslav Bolnykh     Kevin Boyd    \n",
      " Aldert van Buuren   Rudi van Drunen     Anton Feenstra       Alan Gray     \n",
      "  Gerrit Groenhof     Anca Hamuraru    Vincent Hindriksen  M. Eric Irrgang  \n",
      "  Aleksei Iupinov   Christoph Junghans     Joe Jordan     Dimitrios Karkoulis\n",
      "    Peter Kasson        Jiri Kraus      Carsten Kutzner      Per Larsson    \n",
      "  Justin A. Lemkul    Viveca Lindahl    Magnus Lundborg     Erik Marklund   \n",
      "    Pascal Merz     Pieter Meulenhoff    Teemu Murtola       Szilard Pall   \n",
      "    Sander Pronk      Roland Schulz      Michael Shirts    Alexey Shvetsov  \n",
      "   Alfons Sijbers     Peter Tieleman      Jon Vincent      Teemu Virolainen \n",
      " Christian Wennberg    Maarten Wolf      Artem Zhmurov   \n",
      "                           and the project leaders:\n",
      "        Mark Abraham, Berk Hess, Erik Lindahl, and David van der Spoel\n",
      "\n",
      "Copyright (c) 1991-2000, University of Groningen, The Netherlands.\n",
      "Copyright (c) 2001-2019, The GROMACS development team at\n",
      "Uppsala University, Stockholm University and\n",
      "the Royal Institute of Technology, Sweden.\n",
      "check out http://www.gromacs.org for more information.\n",
      "\n",
      "GROMACS is free software; you can redistribute it and/or modify it\n",
      "under the terms of the GNU Lesser General Public License\n",
      "as published by the Free Software Foundation; either version 2.1\n",
      "of the License, or (at your option) any later version.\n",
      "\n",
      "GROMACS:      gmx rmsf, version 2020.1-Ubuntu-2020.1-1\n",
      "Executable:   /usr/bin/gmx\n",
      "Data prefix:  /usr\n",
      "Working dir:  /home/yizaochen/codes/backbone_rigidity/notebooks\n",
      "Command line:\n",
      "  gmx rmsf -s /home/yizaochen/codes/dna_rna/backbone_data/gcgc_21mer/STRAND1/STRAND1.fit.pdb -f /home/yizaochen/codes/dna_rna/backbone_data/gcgc_21mer/STRAND1/STRAND1.fit.xtc -o /home/yizaochen/codes/dna_rna/backbone_data/gcgc_21mer/STRAND1/STRAND1.res.xvg -res\n",
      "\n",
      "Select group(s) for root mean square calculation\n",
      "Group     0 (         System) has   165 elements\n",
      "Group     1 (            DNA) has   165 elements\n",
      "Reading frame       0 time    0.000   \n",
      "WARNING: If there are molecules in the input trajectory file\n",
      "         that are broken across periodic boundaries, they\n",
      "         cannot be made whole (or treated as whole) without\n",
      "         you providing a run input file.\n",
      "\n",
      "Reading frame   49000 time 4900000.000   "
     ]
    },
    {
     "name": "stdout",
     "output_type": "stream",
     "text": [
      "\n",
      "WARNING: Masses and atomic (Van der Waals) radii will be guessed\n",
      "         based on residue and atom names, since they could not be\n",
      "         definitively assigned from the information in your input\n",
      "         files. These guessed numbers might deviate from the mass\n",
      "         and radius of the atom type. Please check the output\n",
      "         files if necessary.\n",
      "\n",
      "Selected 0: 'System'\n"
     ]
    },
    {
     "name": "stderr",
     "output_type": "stream",
     "text": [
      "Last frame      50000 time 5000000.000   \n",
      "\n",
      "GROMACS reminds you: \"The Poodle Bites\" (F. Zappa)\n",
      "\n"
     ]
    }
   ],
   "source": [
    "r_agent.calc_rmsf_res()"
   ]
  },
  {
   "cell_type": "code",
   "execution_count": 25,
   "id": "3e692090-6315-42cc-bfa6-1df95a3a325e",
   "metadata": {},
   "outputs": [
    {
     "name": "stdout",
     "output_type": "stream",
     "text": [
      "vim /home/yizaochen/codes/dna_rna/backbone_data/gcgc_21mer/STRAND1/STRAND1.res.xvg\n"
     ]
    }
   ],
   "source": [
    "r_agent.check_rmsf_res_xvg()"
   ]
  },
  {
   "cell_type": "markdown",
   "id": "6528cea5-6e15-49df-b0c7-28fefad91699",
   "metadata": {},
   "source": [
    "### Part 3: Calculate RMSF per atoms"
   ]
  },
  {
   "cell_type": "code",
   "execution_count": 24,
   "id": "e9bef4d5-255a-45be-abc8-00d005867206",
   "metadata": {
    "collapsed": true,
    "jupyter": {
     "outputs_hidden": true
    },
    "tags": []
   },
   "outputs": [
    {
     "name": "stdout",
     "output_type": "stream",
     "text": [
      "echo 0 |/usr/bin/gmx rmsf -s /home/yizaochen/codes/dna_rna/backbone_data/g_tract_21mer/STRAND2/STRAND2.fit.pdb -f /home/yizaochen/codes/dna_rna/backbone_data/g_tract_21mer/STRAND2/STRAND2.fit.xtc -o /home/yizaochen/codes/dna_rna/backbone_data/g_tract_21mer/STRAND2/STRAND2.aa.xvg\n"
     ]
    },
    {
     "name": "stderr",
     "output_type": "stream",
     "text": [
      "               :-) GROMACS - gmx rmsf, 2020.1-Ubuntu-2020.1-1 (-:\n",
      "\n",
      "                            GROMACS is written by:\n",
      "     Emile Apol      Rossen Apostolov      Paul Bauer     Herman J.C. Berendsen\n",
      "    Par Bjelkmar      Christian Blau   Viacheslav Bolnykh     Kevin Boyd    \n",
      " Aldert van Buuren   Rudi van Drunen     Anton Feenstra       Alan Gray     \n",
      "  Gerrit Groenhof     Anca Hamuraru    Vincent Hindriksen  M. Eric Irrgang  \n",
      "  Aleksei Iupinov   Christoph Junghans     Joe Jordan     Dimitrios Karkoulis\n",
      "    Peter Kasson        Jiri Kraus      Carsten Kutzner      Per Larsson    \n",
      "  Justin A. Lemkul    Viveca Lindahl    Magnus Lundborg     Erik Marklund   \n",
      "    Pascal Merz     Pieter Meulenhoff    Teemu Murtola       Szilard Pall   \n",
      "    Sander Pronk      Roland Schulz      Michael Shirts    Alexey Shvetsov  \n",
      "   Alfons Sijbers     Peter Tieleman      Jon Vincent      Teemu Virolainen \n",
      " Christian Wennberg    Maarten Wolf      Artem Zhmurov   \n",
      "                           and the project leaders:\n",
      "        Mark Abraham, Berk Hess, Erik Lindahl, and David van der Spoel\n",
      "\n",
      "Copyright (c) 1991-2000, University of Groningen, The Netherlands.\n",
      "Copyright (c) 2001-2019, The GROMACS development team at\n",
      "Uppsala University, Stockholm University and\n",
      "the Royal Institute of Technology, Sweden.\n",
      "check out http://www.gromacs.org for more information.\n",
      "\n",
      "GROMACS is free software; you can redistribute it and/or modify it\n",
      "under the terms of the GNU Lesser General Public License\n",
      "as published by the Free Software Foundation; either version 2.1\n",
      "of the License, or (at your option) any later version.\n",
      "\n",
      "GROMACS:      gmx rmsf, version 2020.1-Ubuntu-2020.1-1\n",
      "Executable:   /usr/bin/gmx\n",
      "Data prefix:  /usr\n",
      "Working dir:  /home/yizaochen/codes/backbone_rigidity/notebooks\n",
      "Command line:\n",
      "  gmx rmsf -s /home/yizaochen/codes/dna_rna/backbone_data/g_tract_21mer/STRAND2/STRAND2.fit.pdb -f /home/yizaochen/codes/dna_rna/backbone_data/g_tract_21mer/STRAND2/STRAND2.fit.xtc -o /home/yizaochen/codes/dna_rna/backbone_data/g_tract_21mer/STRAND2/STRAND2.aa.xvg\n",
      "\n",
      "Select group(s) for root mean square calculation\n",
      "Group     0 (         System) has   165 elements\n",
      "Group     1 (            DNA) has   165 elements\n",
      "Reading frame       0 time    0.000   \n",
      "WARNING: If there are molecules in the input trajectory file\n",
      "         that are broken across periodic boundaries, they\n",
      "         cannot be made whole (or treated as whole) without\n",
      "         you providing a run input file.\n",
      "\n",
      "Reading frame   48000 time 4800000.000   "
     ]
    },
    {
     "name": "stdout",
     "output_type": "stream",
     "text": [
      "\n",
      "WARNING: Masses and atomic (Van der Waals) radii will be guessed\n",
      "         based on residue and atom names, since they could not be\n",
      "         definitively assigned from the information in your input\n",
      "         files. These guessed numbers might deviate from the mass\n",
      "         and radius of the atom type. Please check the output\n",
      "         files if necessary.\n",
      "\n",
      "Selected 0: 'System'\n"
     ]
    },
    {
     "name": "stderr",
     "output_type": "stream",
     "text": [
      "Last frame      50000 time 5000000.000   \n",
      "\n",
      "GROMACS reminds you: \"But I always say, one's company, two's a crowd, and three's a party.\" (Andy Warhol)\n",
      "\n"
     ]
    }
   ],
   "source": [
    "r_agent.calc_rmsf_aa()"
   ]
  },
  {
   "cell_type": "code",
   "execution_count": 25,
   "id": "06af81ab-c076-4bbb-8050-c6946e1de973",
   "metadata": {},
   "outputs": [
    {
     "name": "stdout",
     "output_type": "stream",
     "text": [
      "vim /home/yizaochen/codes/dna_rna/backbone_data/g_tract_21mer/STRAND2/STRAND2.aa.xvg\n"
     ]
    }
   ],
   "source": [
    "r_agent.check_rmsf_aa_xvg()"
   ]
  },
  {
   "cell_type": "code",
   "execution_count": null,
   "id": "efd7fe12-300f-4989-aa58-c4874a25a5c2",
   "metadata": {},
   "outputs": [],
   "source": []
  }
 ],
 "metadata": {
  "kernelspec": {
   "display_name": "Python 3 (ipykernel)",
   "language": "python",
   "name": "python3"
  },
  "language_info": {
   "codemirror_mode": {
    "name": "ipython",
    "version": 3
   },
   "file_extension": ".py",
   "mimetype": "text/x-python",
   "name": "python",
   "nbconvert_exporter": "python",
   "pygments_lexer": "ipython3",
   "version": "3.8.11"
  }
 },
 "nbformat": 4,
 "nbformat_minor": 5
}
