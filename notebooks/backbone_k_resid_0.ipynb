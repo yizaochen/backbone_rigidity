{
 "cells": [
  {
   "cell_type": "code",
   "execution_count": 1,
   "id": "5a901ca0-8c5c-42da-a07e-890c5f76241f",
   "metadata": {},
   "outputs": [],
   "source": [
    "import matplotlib.pyplot as plt\n",
    "from matplotlib import rcParams\n",
    "import numpy as np\n",
    "from backbone.backbone_k import ResidPlotv0\n",
    "dihedral_folder = '/home/yizaochen/Documents/dna_2021_drawzone/backbone_dihedral'\n",
    "rcParams['font.family'] = 'Arial'"
   ]
  },
  {
   "cell_type": "markdown",
   "id": "d592e0d3-3c8c-4fc3-a2d4-e60f72b4cd52",
   "metadata": {},
   "source": [
    "### Part 1: Initialize"
   ]
  },
  {
   "cell_type": "code",
   "execution_count": 10,
   "id": "15a26cf6-0133-4cdf-9f96-5920a6c56c2d",
   "metadata": {},
   "outputs": [],
   "source": [
    "host = 'atat_21mer'\n",
    "plot_agent = ResidPlotv0(host, dihedral_folder)"
   ]
  },
  {
   "cell_type": "markdown",
   "id": "c6f0737e-55d6-43e0-ae5e-d8cfbf7300da",
   "metadata": {},
   "source": [
    "### Part 2: Plot"
   ]
  },
  {
   "cell_type": "code",
   "execution_count": 11,
   "id": "36075a84-edd9-4fe9-a66d-c738c0156f52",
   "metadata": {},
   "outputs": [
    {
     "data": {
      "image/png": "[encoded data removed]",
      "text/plain": [
       "<Figure size 118.8x144 with 6 Axes>"
      ]
     },
     "metadata": {},
     "output_type": "display_data"
    }
   ],
   "source": [
    "figsize = (1.65, 2)\n",
    "hspace = 0\n",
    "plot_agent.plot_main(figsize, hspace)\n",
    "#plt.tight_layout()\n",
    "plt.savefig(f'/home/yizaochen/Desktop/drawzone_temp/{host}_backbone_resids.svg', dpi=300, transparent=False)\n",
    "plt.show()"
   ]
  },
  {
   "cell_type": "code",
   "execution_count": null,
   "id": "cb383a88-3db1-46cd-8cc6-c23ebce4188c",
   "metadata": {},
   "outputs": [],
   "source": []
  }
 ],
 "metadata": {
  "kernelspec": {
   "display_name": "Python 3 (ipykernel)",
   "language": "python",
   "name": "python3"
  },
  "language_info": {
   "codemirror_mode": {
    "name": "ipython",
    "version": 3
   },
   "file_extension": ".py",
   "mimetype": "text/x-python",
   "name": "python",
   "nbconvert_exporter": "python",
   "pygments_lexer": "ipython3",
   "version": "3.8.11"
  }
 },
 "nbformat": 4,
 "nbformat_minor": 5
}
