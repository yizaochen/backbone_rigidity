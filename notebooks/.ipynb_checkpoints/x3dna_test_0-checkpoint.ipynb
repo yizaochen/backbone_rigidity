{
 "cells": [
  {
   "cell_type": "code",
   "execution_count": 8,
   "id": "d90ac3e8-8329-4e2b-8139-225e25f27a7d",
   "metadata": {},
   "outputs": [],
   "source": [
    "from os import path\n",
    "import numpy as np\n",
    "from backbone.trajectory import TrajectoryProcess\n",
    "from backbone.dihedral import DihedralMaker\n",
    "from backbone.miscell import check_dir_exist_and_make\n",
    "big_traj_folder = '/home/yizaochen/codes/dna_rna/all_systems'\n",
    "backbone_data_folder = '/home/yizaochen/codes/dna_rna/backbone_data'\n",
    "x3dna_folder = '/home/yizaochen/codes/backbone_rigidity/x3dna_test'"
   ]
  },
  {
   "cell_type": "markdown",
   "id": "d8415b94-c94f-47b7-8e1c-bc0ee4e2e0ce",
   "metadata": {},
   "source": [
    "### Part 1: Initialize"
   ]
  },
  {
   "cell_type": "code",
   "execution_count": 3,
   "id": "2199b411-5171-4a90-a6e4-5d6eecb4a90e",
   "metadata": {},
   "outputs": [
    {
     "name": "stdout",
     "output_type": "stream",
     "text": [
      "/home/yizaochen/codes/dna_rna/backbone_data/a_tract_21mer exists\n",
      "/home/yizaochen/codes/dna_rna/backbone_data/a_tract_21mer/STRAND1 exists\n",
      "/home/yizaochen/codes/dna_rna/backbone_data/a_tract_21mer/STRAND1/ndx exists\n",
      "/home/yizaochen/codes/backbone_rigidity/x3dna_test/a_tract_21mer exists\n"
     ]
    }
   ],
   "source": [
    "host = 'a_tract_21mer'\n",
    "strand_id = 'STRAND1'\n",
    "t_agent = TrajectoryProcess(host, strand_id, big_traj_folder, backbone_data_folder)\n",
    "\n",
    "x3dna_host_folder = path.join(x3dna_folder, host)\n",
    "check_dir_exist_and_make(x3dna_host_folder)"
   ]
  },
  {
   "cell_type": "markdown",
   "id": "b196d37d-0008-4e89-8a02-7a970b569a06",
   "metadata": {},
   "source": [
    "### Part 2: x3dna find pair and analyze"
   ]
  },
  {
   "cell_type": "code",
   "execution_count": 6,
   "id": "a9ad1641-9968-4d66-bb8e-67808ee160ea",
   "metadata": {},
   "outputs": [
    {
     "name": "stdout",
     "output_type": "stream",
     "text": [
      "cd /home/yizaochen/codes/backbone_rigidity/x3dna_test/a_tract_21mer\n",
      "find_pair /home/yizaochen/codes/dna_rna/all_systems/a_tract_21mer/bdna+bdna/input/allatoms/bdna+bdna.npt4.all.pdb /home/yizaochen/codes/backbone_rigidity/x3dna_test/a_tract_21mer/a_tract_21mer.inp\n",
      "analyze -t=a_tract_21mer.tor /home/yizaochen/codes/dna_rna/all_systems/a_tract_21mer/bdna+bdna/input/allatoms/bdna+bdna.npt4.all.pdb\n"
     ]
    }
   ],
   "source": [
    "cmd = f'cd {x3dna_host_folder}'\n",
    "print(cmd)\n",
    "\n",
    "f_inp = path.join(x3dna_host_folder, f'{host}.inp')\n",
    "cmd = f'find_pair {t_agent.all_pdb} {f_inp}'\n",
    "print(cmd)\n",
    "\n",
    "cmd = f'analyze -t={host}.tor {t_agent.all_pdb}'\n",
    "print(cmd)"
   ]
  },
  {
   "cell_type": "code",
   "execution_count": 14,
   "id": "88dc8862-e97b-43ad-ac10-79637ab9ade7",
   "metadata": {},
   "outputs": [
    {
     "name": "stdout",
     "output_type": "stream",
     "text": [
      "vim /home/yizaochen/codes/backbone_rigidity/x3dna_test/a_tract_21mer/a_tract_21mer.tor\n"
     ]
    }
   ],
   "source": [
    "tor_file = path.join(x3dna_folder, host, f'{host}.tor')\n",
    "cmd = f'vim {tor_file}'\n",
    "print(cmd)"
   ]
  },
  {
   "cell_type": "markdown",
   "id": "d2752723-cfef-42bb-ae5b-cc352ef9222e",
   "metadata": {},
   "source": [
    "### Part 3: PLUMED"
   ]
  },
  {
   "cell_type": "code",
   "execution_count": 4,
   "id": "e7f4faa0-0e51-4d31-a1ef-cb601e506397",
   "metadata": {},
   "outputs": [
    {
     "name": "stdout",
     "output_type": "stream",
     "text": [
      "/home/yizaochen/codes/dna_rna/backbone_data/a_tract_21mer exists\n",
      "/home/yizaochen/codes/dna_rna/backbone_data/a_tract_21mer/STRAND1 exists\n",
      "/home/yizaochen/codes/dna_rna/backbone_data/a_tract_21mer/STRAND1/ndx exists\n",
      "/home/yizaochen/codes/dna_rna/backbone_data/a_tract_21mer/STRAND1/plumed_input exists\n",
      "/home/yizaochen/codes/dna_rna/backbone_data/a_tract_21mer/STRAND1/plumed_out exists\n",
      "mkdir /home/yizaochen/codes/backbone_rigidity/plumed_test/a_tract_21mer\n"
     ]
    }
   ],
   "source": [
    "d_agent = DihedralMaker(host, strand_id, big_traj_folder, backbone_data_folder)"
   ]
  },
  {
   "cell_type": "code",
   "execution_count": 11,
   "id": "d16765d1-35dd-4e91-8d3c-4d4c978b2b7d",
   "metadata": {},
   "outputs": [],
   "source": [
    "# epsilon: C4prime-P\n",
    "# zeta: C3prime-O5prime\n",
    "execute = False\n",
    "\n",
    "dihedral_lst = ['C4prime-P', 'C3prime-O5prime']\n",
    "if execute:\n",
    "    for dihedral_name in dihedral_lst:\n",
    "        d_agent.make_all_out_for_test(dihedral_name)"
   ]
  },
  {
   "cell_type": "code",
   "execution_count": 37,
   "id": "30ba8700-9987-4035-814a-3b8f25d21a7d",
   "metadata": {},
   "outputs": [
    {
     "name": "stdout",
     "output_type": "stream",
     "text": [
      "-94.763\n",
      "178.067\n",
      "-105.962\n",
      "-93.123\n",
      "-112.815\n",
      "-80.403\n",
      "177.977\n",
      "-82.597\n",
      "-108.025\n",
      "-124.186\n",
      "-96.487\n",
      "-91.396\n",
      "167.652\n",
      "-85.210\n",
      "-99.665\n"
     ]
    }
   ],
   "source": [
    "dihedral_sele = 'zeta'\n",
    "d_abbr = {'epsilon': 'C4prime-P', 'zeta': 'C3prime-O5prime'}\n",
    "\n",
    "for resid_sele in range(4, 19):\n",
    "    f_out = path.join(d_agent.plumed_test_folder, f'{d_abbr[dihedral_sele]}.{resid_sele}.out')\n",
    "    data = np.genfromtxt(f_out, skip_header=3)\n",
    "    deg = np.rad2deg(data[1])\n",
    "    #print(f'{resid_sele}   {deg:.3f}')\n",
    "    print(f'{deg:.3f}')    "
   ]
  },
  {
   "cell_type": "code",
   "execution_count": null,
   "id": "c68d5044-9a78-4fe5-8580-abcc60536019",
   "metadata": {},
   "outputs": [],
   "source": []
  }
 ],
 "metadata": {
  "kernelspec": {
   "display_name": "Python 3 (ipykernel)",
   "language": "python",
   "name": "python3"
  },
  "language_info": {
   "codemirror_mode": {
    "name": "ipython",
    "version": 3
   },
   "file_extension": ".py",
   "mimetype": "text/x-python",
   "name": "python",
   "nbconvert_exporter": "python",
   "pygments_lexer": "ipython3",
   "version": "3.8.11"
  }
 },
 "nbformat": 4,
 "nbformat_minor": 5
}
