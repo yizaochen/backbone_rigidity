{
 "cells": [
  {
   "cell_type": "code",
   "execution_count": 1,
   "id": "5e63df31-2d40-4508-b245-aaeb97795e06",
   "metadata": {},
   "outputs": [],
   "source": [
    "from os import path\n",
    "from backbone.dihedral_plot import FourDihedralHistogram\n",
    "import matplotlib.pyplot as plt\n",
    "big_traj_folder = '/home/yizaochen/codes/dna_rna/all_systems'\n",
    "backbone_data_folder = '/home/yizaochen/codes/dna_rna/backbone_data'\n",
    "drawzone_folder = '/home/yizaochen/Desktop/drawzone_temp'"
   ]
  },
  {
   "cell_type": "markdown",
   "id": "dbd031bf-4d44-4050-9199-e14b70a241e4",
   "metadata": {},
   "source": [
    "### Part 1: Initialize"
   ]
  },
  {
   "cell_type": "code",
   "execution_count": 2,
   "id": "dfbd1e61-8e24-4c16-8233-059117157386",
   "metadata": {},
   "outputs": [
    {
     "name": "stdout",
     "output_type": "stream",
     "text": [
      "/home/yizaochen/codes/dna_rna/backbone_data/a_tract_21mer exists\n",
      "/home/yizaochen/codes/dna_rna/backbone_data/a_tract_21mer/STRAND1 exists\n",
      "/home/yizaochen/codes/dna_rna/backbone_data/a_tract_21mer/STRAND1/ndx exists\n",
      "/home/yizaochen/codes/dna_rna/backbone_data/a_tract_21mer/STRAND1/plumed_input exists\n",
      "/home/yizaochen/codes/dna_rna/backbone_data/a_tract_21mer/STRAND1/plumed_out exists\n",
      "/home/yizaochen/codes/dna_rna/backbone_data/a_tract_21mer exists\n",
      "/home/yizaochen/codes/dna_rna/backbone_data/a_tract_21mer/STRAND2 exists\n",
      "/home/yizaochen/codes/dna_rna/backbone_data/a_tract_21mer/STRAND2/ndx exists\n",
      "/home/yizaochen/codes/dna_rna/backbone_data/a_tract_21mer/STRAND2/plumed_input exists\n",
      "/home/yizaochen/codes/dna_rna/backbone_data/a_tract_21mer/STRAND2/plumed_out exists\n"
     ]
    }
   ],
   "source": [
    "host = 'a_tract_21mer'\n",
    "plot_agent = FourDihedralHistogram(host, big_traj_folder, backbone_data_folder)"
   ]
  },
  {
   "cell_type": "markdown",
   "id": "efbf11f8-357b-4a08-a3b3-dcf82e4ed8fc",
   "metadata": {},
   "source": [
    "### Part 2: Histogram"
   ]
  },
  {
   "cell_type": "code",
   "execution_count": null,
   "id": "01153add-e69a-4814-b41b-caaa632e9e56",
   "metadata": {},
   "outputs": [],
   "source": [
    "figsize = (8, 8)\n",
    "bins = 180\n",
    "plot_agent.histogram(figsize, bins=bins)\n",
    "plt.tight_layout()\n",
    "svg_out = path.join(drawzone_folder, f'{host}.svg')\n",
    "plt.savefig(svg_out, dpi=150, transparent=False)\n",
    "plt.show()"
   ]
  },
  {
   "cell_type": "code",
   "execution_count": null,
   "id": "46cc55a2-b88f-4286-a6b9-8ed731a0817d",
   "metadata": {},
   "outputs": [],
   "source": []
  }
 ],
 "metadata": {
  "kernelspec": {
   "display_name": "Python 3 (ipykernel)",
   "language": "python",
   "name": "python3"
  },
  "language_info": {
   "codemirror_mode": {
    "name": "ipython",
    "version": 3
   },
   "file_extension": ".py",
   "mimetype": "text/x-python",
   "name": "python",
   "nbconvert_exporter": "python",
   "pygments_lexer": "ipython3",
   "version": "3.8.11"
  }
 },
 "nbformat": 4,
 "nbformat_minor": 5
}
