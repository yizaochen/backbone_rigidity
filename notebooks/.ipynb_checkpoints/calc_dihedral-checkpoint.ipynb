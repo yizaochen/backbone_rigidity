{
 "cells": [
  {
   "cell_type": "code",
   "execution_count": 1,
   "id": "556af56e-26c5-4364-94dd-9d01adad3149",
   "metadata": {},
   "outputs": [],
   "source": [
    "from os import path\n",
    "from backbone.dihedral import DihedralMaker\n",
    "import numpy as np\n",
    "import MDAnalysis as mda\n",
    "big_traj_folder = '/home/yizaochen/codes/dna_rna/all_systems'\n",
    "backbone_data_folder = '/home/yizaochen/codes/dna_rna/backbone_data'"
   ]
  },
  {
   "cell_type": "markdown",
   "id": "727743ff-22c8-4203-80e5-c246182f7a1a",
   "metadata": {},
   "source": [
    "### Part 1: Initialize"
   ]
  },
  {
   "cell_type": "code",
   "execution_count": 5,
   "id": "39bf9c21-18c8-461d-84c7-4d71851ee11e",
   "metadata": {},
   "outputs": [
    {
     "name": "stdout",
     "output_type": "stream",
     "text": [
      "/home/yizaochen/codes/dna_rna/backbone_data/a_tract_21mer exists\n",
      "/home/yizaochen/codes/dna_rna/backbone_data/a_tract_21mer/STRAND2 exists\n",
      "/home/yizaochen/codes/dna_rna/backbone_data/a_tract_21mer/STRAND2/ndx exists\n",
      "mkdir /home/yizaochen/codes/dna_rna/backbone_data/a_tract_21mer/STRAND2/plumed_input\n",
      "mkdir /home/yizaochen/codes/dna_rna/backbone_data/a_tract_21mer/STRAND2/plumed_out\n"
     ]
    }
   ],
   "source": [
    "host = 'a_tract_21mer'\n",
    "strand_id = 'STRAND2'\n",
    "d_agent = DihedralMaker(host, strand_id, big_traj_folder, backbone_data_folder)"
   ]
  },
  {
   "cell_type": "markdown",
   "id": "0381bd72-883b-48ea-ab88-2d21fd3da538",
   "metadata": {},
   "source": [
    "### Part 2: Set Dihedral Name"
   ]
  },
  {
   "cell_type": "code",
   "execution_count": 2,
   "id": "346e3686-30b2-4489-8965-21fb927e70a2",
   "metadata": {},
   "outputs": [],
   "source": [
    "dihedral_name = 'C4prime-P' # 'C2prime-P', 'C4prime-P'"
   ]
  },
  {
   "cell_type": "markdown",
   "id": "4e07817b-d9c6-42bc-b045-5e87f50ac731",
   "metadata": {},
   "source": [
    "### Part 3: Calculate Dihedral by PLUMED"
   ]
  },
  {
   "cell_type": "code",
   "execution_count": null,
   "id": "e4ad2076-efab-47b9-a19a-fff91574a2c7",
   "metadata": {},
   "outputs": [],
   "source": [
    "#d_agent.make_all_out(dihedral_name)"
   ]
  },
  {
   "cell_type": "markdown",
   "id": "f86578e8-72cb-48a2-b575-b90cd73216fe",
   "metadata": {},
   "source": [
    "### Batch Run"
   ]
  },
  {
   "cell_type": "code",
   "execution_count": null,
   "id": "a9a20b61-b399-4a06-9495-d97d078e7bc2",
   "metadata": {},
   "outputs": [],
   "source": [
    "\"\"\"\n",
    "hosts = ['a_tract_21mer', 'g_tract_21mer', 'atat_21mer', 'gcgc_21mer']\n",
    "strand_lst = ['STRAND1', 'STRAND2']\n",
    "for host in hosts:\n",
    "    for strand_id in strand_lst:\n",
    "        d_agent = DihedralMaker(host, strand_id, big_traj_folder, backbone_data_folder)\n",
    "        d_agent.make_all_out(dihedral_name)\n",
    "\"\"\""
   ]
  },
  {
   "cell_type": "code",
   "execution_count": null,
   "id": "20938166-f69e-43dc-bb1b-f6cfb074b5f2",
   "metadata": {},
   "outputs": [],
   "source": [
    "\"\"\"\n",
    "hosts = ['a_tract_21mer', 'g_tract_21mer', 'atat_21mer', 'gcgc_21mer']\n",
    "strand_lst = ['STRAND1', 'STRAND2']\n",
    "dihedral_name_lst = ['C1prime-N3orO2', 'C1prime-N7orC5']\n",
    "for host in hosts:\n",
    "    for strand_id in strand_lst:\n",
    "        d_agent = DihedralMaker(host, strand_id, big_traj_folder, backbone_data_folder)\n",
    "        for dihedral_name in dihedral_name_lst:\n",
    "            d_agent.make_all_out_with_resname(dihedral_name)\n",
    "\"\"\""
   ]
  },
  {
   "cell_type": "code",
   "execution_count": null,
   "id": "a9865648-a690-4420-bffc-6fdf1fe39569",
   "metadata": {},
   "outputs": [],
   "source": [
    "hosts = ['a_tract_21mer', 'g_tract_21mer', 'atat_21mer', 'gcgc_21mer']\n",
    "strand_lst = ['STRAND1', 'STRAND2']\n",
    "dihedral_name_lst = ['O4prime-C4orC2', 'C2prime-C4orC2']\n",
    "for host in hosts:\n",
    "    for strand_id in strand_lst:\n",
    "        d_agent = DihedralMaker(host, strand_id, big_traj_folder, backbone_data_folder)\n",
    "        for dihedral_name in dihedral_name_lst:\n",
    "            d_agent.make_all_out_with_resname(dihedral_name)"
   ]
  }
 ],
 "metadata": {
  "kernelspec": {
   "display_name": "Python 3 (ipykernel)",
   "language": "python",
   "name": "python3"
  },
  "language_info": {
   "codemirror_mode": {
    "name": "ipython",
    "version": 3
   },
   "file_extension": ".py",
   "mimetype": "text/x-python",
   "name": "python",
   "nbconvert_exporter": "python",
   "pygments_lexer": "ipython3",
   "version": "3.8.11"
  }
 },
 "nbformat": 4,
 "nbformat_minor": 5
}
