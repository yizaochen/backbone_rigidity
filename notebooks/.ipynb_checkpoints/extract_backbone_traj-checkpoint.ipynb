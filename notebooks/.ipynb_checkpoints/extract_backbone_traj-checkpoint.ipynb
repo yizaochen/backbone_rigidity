{
 "cells": [
  {
   "cell_type": "code",
   "execution_count": 1,
   "id": "530abde6-d64e-48a4-a9e6-ec87ea4eb111",
   "metadata": {},
   "outputs": [],
   "source": [
    "from os import path\n",
    "from backbone.trajectory import TrajectoryProcess\n",
    "big_traj_folder = '/home/yizaochen/codes/dna_rna/all_systems'\n",
    "backbone_data_folder = '/home/yizaochen/codes/dna_rna/backbone_data'"
   ]
  },
  {
   "cell_type": "markdown",
   "id": "43fd1928-2a53-4e56-8b11-7f8071b767b9",
   "metadata": {},
   "source": [
    "### Part 1: Initialize"
   ]
  },
  {
   "cell_type": "code",
   "execution_count": 9,
   "id": "574b1be5-b59b-4d5d-934c-c4848abbf098",
   "metadata": {},
   "outputs": [
    {
     "name": "stdout",
     "output_type": "stream",
     "text": [
      "/home/yizaochen/codes/dna_rna/backbone_data/gcgc_21mer exists\n",
      "mkdir /home/yizaochen/codes/dna_rna/backbone_data/gcgc_21mer/STRAND2\n",
      "mkdir /home/yizaochen/codes/dna_rna/backbone_data/gcgc_21mer/STRAND2/ndx\n"
     ]
    }
   ],
   "source": [
    "host = 'gcgc_21mer'\n",
    "strand_id = 'STRAND2'\n",
    "t_agent = TrajectoryProcess(host, strand_id, big_traj_folder, backbone_data_folder)"
   ]
  },
  {
   "cell_type": "markdown",
   "id": "5c05d8cd-53bf-480c-baf7-c71000f8b58f",
   "metadata": {},
   "source": [
    "### Part 2: Make backbone PDB"
   ]
  },
  {
   "cell_type": "code",
   "execution_count": null,
   "id": "a762807d-2da2-4851-832b-26e1b7d1b147",
   "metadata": {
    "tags": []
   },
   "outputs": [],
   "source": [
    "t_agent.make_strand_central_pdb()"
   ]
  },
  {
   "cell_type": "code",
   "execution_count": 4,
   "id": "df27a768-617a-4ddf-9612-7d5b149eba95",
   "metadata": {},
   "outputs": [
    {
     "name": "stdout",
     "output_type": "stream",
     "text": [
      "vmd -pdb /home/yizaochen/codes/dna_rna/backbone_data/g_tract_21mer/STRAND1/STRAND1.pdb\n"
     ]
    }
   ],
   "source": [
    "t_agent.check_pdb()"
   ]
  },
  {
   "cell_type": "markdown",
   "id": "4ac10237-f687-4251-b1eb-8d4d9bea2987",
   "metadata": {},
   "source": [
    "### Part 3: Make backbone xtc"
   ]
  },
  {
   "cell_type": "code",
   "execution_count": null,
   "id": "3a67b942-cc3e-4570-9b29-2ebbe5f67c7c",
   "metadata": {
    "tags": []
   },
   "outputs": [],
   "source": [
    "t_agent.make_strand_central_xtc()"
   ]
  },
  {
   "cell_type": "code",
   "execution_count": 6,
   "id": "d553ebe0-271e-438d-9f6f-9a395f34225b",
   "metadata": {},
   "outputs": [
    {
     "name": "stdout",
     "output_type": "stream",
     "text": [
      "vmd -pdb /home/yizaochen/codes/dna_rna/backbone_data/g_tract_21mer/STRAND1/STRAND1.pdb /home/yizaochen/codes/dna_rna/backbone_data/g_tract_21mer/STRAND1/STRAND1.xtc\n"
     ]
    }
   ],
   "source": [
    "t_agent.check_xtc()"
   ]
  },
  {
   "cell_type": "markdown",
   "id": "d2cee19a-5297-4953-af66-caab6343f893",
   "metadata": {},
   "source": [
    "### Part 4: Make fitting backbone PDB"
   ]
  },
  {
   "cell_type": "code",
   "execution_count": null,
   "id": "5710fa0a-edf6-4f79-9335-287ca4cd01a1",
   "metadata": {
    "tags": []
   },
   "outputs": [],
   "source": [
    "t_agent.make_fit_pdb()"
   ]
  },
  {
   "cell_type": "code",
   "execution_count": 8,
   "id": "d54be0f9-632c-4bcd-afbf-d45e70de5bee",
   "metadata": {},
   "outputs": [
    {
     "name": "stdout",
     "output_type": "stream",
     "text": [
      "vmd -pdb /home/yizaochen/codes/dna_rna/backbone_data/g_tract_21mer/STRAND1/STRAND1.fit.pdb\n",
      "mol new /home/yizaochen/codes/backbone_rigidity/ref_structures/backbone.pdb type pdb\n"
     ]
    }
   ],
   "source": [
    "t_agent.check_fit_pdb()"
   ]
  },
  {
   "cell_type": "markdown",
   "id": "ee2207d1-4064-4a8f-b7cf-119b069ffde8",
   "metadata": {},
   "source": [
    "### Part 5: Make fitting backbone xtc"
   ]
  },
  {
   "cell_type": "code",
   "execution_count": null,
   "id": "62eef4d7-0450-4310-ab17-a938d646fe20",
   "metadata": {
    "tags": []
   },
   "outputs": [],
   "source": [
    "t_agent.make_fit_xtc()"
   ]
  },
  {
   "cell_type": "code",
   "execution_count": 14,
   "id": "f33b5b03-414c-4c93-9cdc-9f7e0c67f671",
   "metadata": {},
   "outputs": [
    {
     "name": "stdout",
     "output_type": "stream",
     "text": [
      "vmd -pdb /home/yizaochen/codes/dna_rna/backbone_data/gcgc_21mer/STRAND2/STRAND2.fit.pdb /home/yizaochen/codes/dna_rna/backbone_data/gcgc_21mer/STRAND2/STRAND2.fit.xtc\n"
     ]
    }
   ],
   "source": [
    "t_agent.check_fit_xtc()"
   ]
  },
  {
   "cell_type": "markdown",
   "id": "f0f8e051-d276-472b-95df-98a3de4197b0",
   "metadata": {},
   "source": [
    "### Additional Part 1: Check Trajectory"
   ]
  },
  {
   "cell_type": "code",
   "execution_count": 3,
   "id": "d4f5d928-4439-4919-9fb6-b9f1baf9f167",
   "metadata": {},
   "outputs": [
    {
     "name": "stdout",
     "output_type": "stream",
     "text": [
      "vmd -gro /home/yizaochen/codes/dna_rna/all_systems/gcgc_21mer/bdna+bdna/input/allatoms/bdna+bdna.npt4.all.gro /home/yizaochen/codes/dna_rna/all_systems/gcgc_21mer/bdna+bdna/input/allatoms/bdna+bdna.all.xtc\n"
     ]
    }
   ],
   "source": [
    "t_agent.check_traj()"
   ]
  },
  {
   "cell_type": "code",
   "execution_count": null,
   "id": "f9795dd1-e3b6-43b7-8bc7-356cd22b61af",
   "metadata": {},
   "outputs": [],
   "source": []
  }
 ],
 "metadata": {
  "kernelspec": {
   "display_name": "Python 3 (ipykernel)",
   "language": "python",
   "name": "python3"
  },
  "language_info": {
   "codemirror_mode": {
    "name": "ipython",
    "version": 3
   },
   "file_extension": ".py",
   "mimetype": "text/x-python",
   "name": "python",
   "nbconvert_exporter": "python",
   "pygments_lexer": "ipython3",
   "version": "3.8.11"
  }
 },
 "nbformat": 4,
 "nbformat_minor": 5
}
